{
 "cells": [
  {
   "cell_type": "code",
   "execution_count": 6,
   "metadata": {},
   "outputs": [
    {
     "name": "stdout",
     "output_type": "stream",
     "text": [
      "**** Starting Read.\n",
      "**** Ending Read.\n"
     ]
    }
   ],
   "source": [
    "import numpy\n",
    "import urllib\n",
    "import scipy.optimize\n",
    "import random\n",
    "\n",
    "def parseData(fname):\n",
    "  for l in urllib.urlopen(fname):\n",
    "    yield eval(l)\n",
    "\n",
    "\n",
    "print \"**** Starting Read.\"\n",
    "data = list(parseData(\"http://jmcauley.ucsd.edu/cse255/data/beer/beer_50000.json\"))\n",
    "print \"**** Ending Read.\""
   ]
  },
  {
   "cell_type": "code",
   "execution_count": 7,
   "metadata": {},
   "outputs": [
    {
     "data": {
      "text/plain": [
       "50000"
      ]
     },
     "execution_count": 7,
     "metadata": {},
     "output_type": "execute_result"
    }
   ],
   "source": [
    "len(data)"
   ]
  },
  {
   "cell_type": "code",
   "execution_count": 4,
   "metadata": {},
   "outputs": [
    {
     "data": {
      "text/plain": [
       "{'beer/ABV': 5.0,\n",
       " 'beer/beerId': '47986',\n",
       " 'beer/brewerId': '10325',\n",
       " 'beer/name': 'Sausa Weizen',\n",
       " 'beer/style': 'Hefeweizen',\n",
       " 'review/appearance': 2.5,\n",
       " 'review/aroma': 2.0,\n",
       " 'review/overall': 1.5,\n",
       " 'review/palate': 1.5,\n",
       " 'review/taste': 1.5,\n",
       " 'review/text': 'A lot of foam. But a lot.\\tIn the smell some banana, and then lactic and tart. Not a good start.\\tQuite dark orange in color, with a lively carbonation (now visible, under the foam).\\tAgain tending to lactic sourness.\\tSame for the taste. With some yeast and banana.',\n",
       " 'review/timeStruct': {'hour': 20,\n",
       "  'isdst': 0,\n",
       "  'mday': 16,\n",
       "  'min': 57,\n",
       "  'mon': 2,\n",
       "  'sec': 3,\n",
       "  'wday': 0,\n",
       "  'yday': 47,\n",
       "  'year': 2009},\n",
       " 'review/timeUnix': 1234817823,\n",
       " 'user/profileName': 'stcules'}"
      ]
     },
     "execution_count": 4,
     "metadata": {},
     "output_type": "execute_result"
    }
   ],
   "source": [
    "data[0]"
   ]
  },
  {
   "cell_type": "code",
   "execution_count": 5,
   "metadata": {},
   "outputs": [
    {
     "data": {
      "text/plain": [
       "dict"
      ]
     },
     "execution_count": 5,
     "metadata": {},
     "output_type": "execute_result"
    }
   ],
   "source": [
    "type(data[0])"
   ]
  },
  {
   "cell_type": "code",
   "execution_count": 6,
   "metadata": {},
   "outputs": [
    {
     "data": {
      "text/plain": [
       "'Hefeweizen'"
      ]
     },
     "execution_count": 6,
     "metadata": {},
     "output_type": "execute_result"
    }
   ],
   "source": [
    "################################### assignment1 REGRESSION Task 1 starts ######################################\n",
    "###############################################################################################################\n",
    "\n",
    "data[0]['beer/style']"
   ]
  },
  {
   "cell_type": "code",
   "execution_count": 8,
   "metadata": {
    "collapsed": true
   },
   "outputs": [],
   "source": [
    "# counting entries with unique beer style\n",
    "beer_style,counts=numpy.unique([d['beer/style'] for d in data], return_counts=True) \n",
    "style_count = dict(zip(beer_style, counts))"
   ]
  },
  {
   "cell_type": "code",
   "execution_count": 9,
   "metadata": {},
   "outputs": [
    {
     "data": {
      "text/plain": [
       "{'Altbier': 165,\n",
       " 'American Adjunct Lager': 242,\n",
       " 'American Amber / Red Ale': 665,\n",
       " 'American Amber / Red Lager': 42,\n",
       " 'American Barleywine': 825,\n",
       " 'American Black Ale': 138,\n",
       " 'American Blonde Ale': 357,\n",
       " 'American Brown Ale': 314,\n",
       " 'American Dark Wheat Ale': 14,\n",
       " 'American Double / Imperial IPA': 3886,\n",
       " 'American Double / Imperial Pilsner': 14,\n",
       " 'American Double / Imperial Stout': 5964,\n",
       " 'American IPA': 4113,\n",
       " 'American Malt Liquor': 90,\n",
       " 'American Pale Ale (APA)': 2288,\n",
       " 'American Pale Lager': 123,\n",
       " 'American Pale Wheat Ale': 154,\n",
       " 'American Porter': 2230,\n",
       " 'American Stout': 591,\n",
       " 'American Strong Ale': 166,\n",
       " 'American Wild Ale': 98,\n",
       " 'Baltic Porter': 514,\n",
       " 'Belgian Dark Ale': 175,\n",
       " 'Belgian IPA': 128,\n",
       " 'Belgian Pale Ale': 144,\n",
       " 'Belgian Strong Dark Ale': 146,\n",
       " 'Belgian Strong Pale Ale': 632,\n",
       " 'Berliner Weissbier': 10,\n",
       " 'Bi\\xc3\\xa8re de Garde': 7,\n",
       " 'Black & Tan': 122,\n",
       " 'Bock': 148,\n",
       " 'Braggot': 26,\n",
       " 'California Common / Steam Beer': 11,\n",
       " 'Chile Beer': 11,\n",
       " 'Cream Ale': 69,\n",
       " 'Czech Pilsener': 1501,\n",
       " 'Doppelbock': 873,\n",
       " 'Dortmunder / Export Lager': 31,\n",
       " 'Dubbel': 165,\n",
       " 'Dunkelweizen': 61,\n",
       " 'Eisbock': 8,\n",
       " 'English Barleywine': 133,\n",
       " 'English Bitter': 267,\n",
       " 'English Brown Ale': 495,\n",
       " 'English Dark Mild Ale': 21,\n",
       " 'English India Pale Ale (IPA)': 175,\n",
       " 'English Pale Ale': 1324,\n",
       " 'English Pale Mild Ale': 21,\n",
       " 'English Porter': 367,\n",
       " 'English Stout': 136,\n",
       " 'English Strong Ale': 164,\n",
       " 'Euro Dark Lager': 144,\n",
       " 'Euro Pale Lager': 701,\n",
       " 'Euro Strong Lager': 329,\n",
       " 'Extra Special / Strong Bitter (ESB)': 667,\n",
       " 'Flanders Oud Bruin': 13,\n",
       " 'Flanders Red Ale': 2,\n",
       " 'Foreign / Export Stout': 55,\n",
       " 'Fruit / Vegetable Beer': 1355,\n",
       " 'German Pilsener': 586,\n",
       " 'Hefeweizen': 618,\n",
       " 'Herbed / Spiced Beer': 73,\n",
       " 'Irish Dry Stout': 101,\n",
       " 'Irish Red Ale': 83,\n",
       " 'Keller Bier / Zwickel Bier': 23,\n",
       " 'Kristalweizen': 7,\n",
       " 'K\\xc3\\xb6lsch': 94,\n",
       " 'Lambic - Fruit': 6,\n",
       " 'Lambic - Unblended': 10,\n",
       " 'Light Lager': 503,\n",
       " 'Low Alcohol Beer': 7,\n",
       " 'Maibock / Helles Bock': 225,\n",
       " 'Milk / Sweet Stout': 69,\n",
       " 'Munich Dunkel Lager': 141,\n",
       " 'Munich Helles Lager': 650,\n",
       " 'M\\xc3\\xa4rzen / Oktoberfest': 557,\n",
       " 'Oatmeal Stout': 102,\n",
       " 'Old Ale': 1052,\n",
       " 'Pumpkin Ale': 560,\n",
       " 'Quadrupel (Quad)': 119,\n",
       " 'Rauchbier': 1938,\n",
       " 'Russian Imperial Stout': 2695,\n",
       " 'Rye Beer': 1798,\n",
       " 'Saison / Farmhouse Ale': 141,\n",
       " 'Schwarzbier': 53,\n",
       " 'Scotch Ale / Wee Heavy': 2776,\n",
       " 'Scottish Ale': 78,\n",
       " 'Scottish Gruit / Ancient Herbed Ale': 65,\n",
       " 'Smoked Beer': 61,\n",
       " 'Tripel': 257,\n",
       " 'Vienna Lager': 33,\n",
       " 'Weizenbock': 13,\n",
       " 'Wheatwine': 455,\n",
       " 'Winter Warmer': 259,\n",
       " 'Witbier': 162}"
      ]
     },
     "execution_count": 9,
     "metadata": {},
     "output_type": "execute_result"
    }
   ],
   "source": [
    "style_count"
   ]
  },
  {
   "cell_type": "code",
   "execution_count": 11,
   "metadata": {},
   "outputs": [
    {
     "data": {
      "text/plain": [
       "50000"
      ]
     },
     "execution_count": 11,
     "metadata": {},
     "output_type": "execute_result"
    }
   ],
   "source": [
    "sum(style_count.values()) # verifying correctness"
   ]
  },
  {
   "cell_type": "code",
   "execution_count": 13,
   "metadata": {
    "collapsed": true
   },
   "outputs": [],
   "source": [
    "import pandas as pd"
   ]
  },
  {
   "cell_type": "code",
   "execution_count": 27,
   "metadata": {},
   "outputs": [
    {
     "data": {
      "text/html": [
       "<div>\n",
       "<style>\n",
       "    .dataframe thead tr:only-child th {\n",
       "        text-align: right;\n",
       "    }\n",
       "\n",
       "    .dataframe thead th {\n",
       "        text-align: left;\n",
       "    }\n",
       "\n",
       "    .dataframe tbody tr th {\n",
       "        vertical-align: top;\n",
       "    }\n",
       "</style>\n",
       "<table border=\"1\" class=\"dataframe\">\n",
       "  <thead>\n",
       "    <tr style=\"text-align: right;\">\n",
       "      <th></th>\n",
       "      <th>beer/ABV</th>\n",
       "      <th>beer/beerId</th>\n",
       "      <th>beer/brewerId</th>\n",
       "      <th>beer/name</th>\n",
       "      <th>beer/style</th>\n",
       "      <th>review/appearance</th>\n",
       "      <th>review/aroma</th>\n",
       "      <th>review/overall</th>\n",
       "      <th>review/palate</th>\n",
       "      <th>review/taste</th>\n",
       "      <th>review/text</th>\n",
       "      <th>review/timeStruct</th>\n",
       "      <th>review/timeUnix</th>\n",
       "      <th>user/ageInSeconds</th>\n",
       "      <th>user/birthdayRaw</th>\n",
       "      <th>user/birthdayUnix</th>\n",
       "      <th>user/gender</th>\n",
       "      <th>user/profileName</th>\n",
       "    </tr>\n",
       "  </thead>\n",
       "  <tbody>\n",
       "    <tr>\n",
       "      <th>0</th>\n",
       "      <td>5.0</td>\n",
       "      <td>47986</td>\n",
       "      <td>10325</td>\n",
       "      <td>Sausa Weizen</td>\n",
       "      <td>Hefeweizen</td>\n",
       "      <td>2.5</td>\n",
       "      <td>2.0</td>\n",
       "      <td>1.5</td>\n",
       "      <td>1.5</td>\n",
       "      <td>1.5</td>\n",
       "      <td>A lot of foam. But a lot.\\tIn the smell some b...</td>\n",
       "      <td>{u'wday': 0, u'isdst': 0, u'mday': 16, u'hour'...</td>\n",
       "      <td>1234817823</td>\n",
       "      <td>NaN</td>\n",
       "      <td>NaN</td>\n",
       "      <td>NaN</td>\n",
       "      <td>NaN</td>\n",
       "      <td>stcules</td>\n",
       "    </tr>\n",
       "    <tr>\n",
       "      <th>1</th>\n",
       "      <td>6.2</td>\n",
       "      <td>48213</td>\n",
       "      <td>10325</td>\n",
       "      <td>Red Moon</td>\n",
       "      <td>English Strong Ale</td>\n",
       "      <td>3.0</td>\n",
       "      <td>2.5</td>\n",
       "      <td>3.0</td>\n",
       "      <td>3.0</td>\n",
       "      <td>3.0</td>\n",
       "      <td>Dark red color, light beige foam, average.\\tIn...</td>\n",
       "      <td>{u'wday': 6, u'isdst': 0, u'mday': 1, u'hour':...</td>\n",
       "      <td>1235915097</td>\n",
       "      <td>NaN</td>\n",
       "      <td>NaN</td>\n",
       "      <td>NaN</td>\n",
       "      <td>NaN</td>\n",
       "      <td>stcules</td>\n",
       "    </tr>\n",
       "    <tr>\n",
       "      <th>2</th>\n",
       "      <td>6.5</td>\n",
       "      <td>48215</td>\n",
       "      <td>10325</td>\n",
       "      <td>Black Horse Black Beer</td>\n",
       "      <td>Foreign / Export Stout</td>\n",
       "      <td>3.0</td>\n",
       "      <td>2.5</td>\n",
       "      <td>3.0</td>\n",
       "      <td>3.0</td>\n",
       "      <td>3.0</td>\n",
       "      <td>Almost totally black. Beige foam, quite compac...</td>\n",
       "      <td>{u'wday': 6, u'isdst': 0, u'mday': 1, u'hour':...</td>\n",
       "      <td>1235916604</td>\n",
       "      <td>NaN</td>\n",
       "      <td>NaN</td>\n",
       "      <td>NaN</td>\n",
       "      <td>NaN</td>\n",
       "      <td>stcules</td>\n",
       "    </tr>\n",
       "    <tr>\n",
       "      <th>3</th>\n",
       "      <td>5.0</td>\n",
       "      <td>47969</td>\n",
       "      <td>10325</td>\n",
       "      <td>Sausa Pils</td>\n",
       "      <td>German Pilsener</td>\n",
       "      <td>3.5</td>\n",
       "      <td>3.0</td>\n",
       "      <td>3.0</td>\n",
       "      <td>2.5</td>\n",
       "      <td>3.0</td>\n",
       "      <td>Golden yellow color. White, compact foam, quit...</td>\n",
       "      <td>{u'wday': 6, u'isdst': 0, u'mday': 15, u'hour'...</td>\n",
       "      <td>1234725145</td>\n",
       "      <td>NaN</td>\n",
       "      <td>NaN</td>\n",
       "      <td>NaN</td>\n",
       "      <td>NaN</td>\n",
       "      <td>stcules</td>\n",
       "    </tr>\n",
       "    <tr>\n",
       "      <th>4</th>\n",
       "      <td>7.7</td>\n",
       "      <td>64883</td>\n",
       "      <td>1075</td>\n",
       "      <td>Cauldron DIPA</td>\n",
       "      <td>American Double / Imperial IPA</td>\n",
       "      <td>4.0</td>\n",
       "      <td>4.5</td>\n",
       "      <td>4.0</td>\n",
       "      <td>4.0</td>\n",
       "      <td>4.5</td>\n",
       "      <td>According to the website, the style for the Ca...</td>\n",
       "      <td>{u'wday': 3, u'isdst': 0, u'mday': 30, u'hour'...</td>\n",
       "      <td>1293735206</td>\n",
       "      <td>3.581417e+09</td>\n",
       "      <td>Jun 16, 1901</td>\n",
       "      <td>-2.163082e+09</td>\n",
       "      <td>Male</td>\n",
       "      <td>johnmichaelsen</td>\n",
       "    </tr>\n",
       "    <tr>\n",
       "      <th>5</th>\n",
       "      <td>4.7</td>\n",
       "      <td>52159</td>\n",
       "      <td>1075</td>\n",
       "      <td>Caldera Ginger Beer</td>\n",
       "      <td>Herbed / Spiced Beer</td>\n",
       "      <td>3.5</td>\n",
       "      <td>3.5</td>\n",
       "      <td>3.0</td>\n",
       "      <td>3.0</td>\n",
       "      <td>3.5</td>\n",
       "      <td>Poured from the bottle into a Chimay goblet.\\t...</td>\n",
       "      <td>{u'wday': 0, u'isdst': 0, u'mday': 2, u'hour':...</td>\n",
       "      <td>1325524659</td>\n",
       "      <td>NaN</td>\n",
       "      <td>NaN</td>\n",
       "      <td>NaN</td>\n",
       "      <td>Male</td>\n",
       "      <td>oline73</td>\n",
       "    </tr>\n",
       "    <tr>\n",
       "      <th>6</th>\n",
       "      <td>4.7</td>\n",
       "      <td>52159</td>\n",
       "      <td>1075</td>\n",
       "      <td>Caldera Ginger Beer</td>\n",
       "      <td>Herbed / Spiced Beer</td>\n",
       "      <td>3.5</td>\n",
       "      <td>3.5</td>\n",
       "      <td>3.5</td>\n",
       "      <td>4.0</td>\n",
       "      <td>4.0</td>\n",
       "      <td>22 oz bottle from \"Lifesource\" Salem. $3.95 Ni...</td>\n",
       "      <td>{u'wday': 2, u'isdst': 0, u'mday': 19, u'hour'...</td>\n",
       "      <td>1318991115</td>\n",
       "      <td>NaN</td>\n",
       "      <td>NaN</td>\n",
       "      <td>NaN</td>\n",
       "      <td>NaN</td>\n",
       "      <td>Reidrover</td>\n",
       "    </tr>\n",
       "    <tr>\n",
       "      <th>7</th>\n",
       "      <td>4.7</td>\n",
       "      <td>52159</td>\n",
       "      <td>1075</td>\n",
       "      <td>Caldera Ginger Beer</td>\n",
       "      <td>Herbed / Spiced Beer</td>\n",
       "      <td>3.5</td>\n",
       "      <td>2.5</td>\n",
       "      <td>3.0</td>\n",
       "      <td>2.0</td>\n",
       "      <td>3.5</td>\n",
       "      <td>Bottle says \"Malt beverage brewed with Ginger ...</td>\n",
       "      <td>{u'wday': 1, u'isdst': 0, u'mday': 24, u'hour'...</td>\n",
       "      <td>1306276018</td>\n",
       "      <td>NaN</td>\n",
       "      <td>NaN</td>\n",
       "      <td>NaN</td>\n",
       "      <td>Male</td>\n",
       "      <td>alpinebryant</td>\n",
       "    </tr>\n",
       "    <tr>\n",
       "      <th>8</th>\n",
       "      <td>4.7</td>\n",
       "      <td>52159</td>\n",
       "      <td>1075</td>\n",
       "      <td>Caldera Ginger Beer</td>\n",
       "      <td>Herbed / Spiced Beer</td>\n",
       "      <td>3.5</td>\n",
       "      <td>3.0</td>\n",
       "      <td>4.0</td>\n",
       "      <td>3.5</td>\n",
       "      <td>4.0</td>\n",
       "      <td>I'm not sure why I picked this up... I like gi...</td>\n",
       "      <td>{u'wday': 0, u'isdst': 0, u'mday': 22, u'hour'...</td>\n",
       "      <td>1290454503</td>\n",
       "      <td>NaN</td>\n",
       "      <td>NaN</td>\n",
       "      <td>NaN</td>\n",
       "      <td>NaN</td>\n",
       "      <td>LordAdmNelson</td>\n",
       "    </tr>\n",
       "    <tr>\n",
       "      <th>9</th>\n",
       "      <td>4.7</td>\n",
       "      <td>52159</td>\n",
       "      <td>1075</td>\n",
       "      <td>Caldera Ginger Beer</td>\n",
       "      <td>Herbed / Spiced Beer</td>\n",
       "      <td>5.0</td>\n",
       "      <td>3.5</td>\n",
       "      <td>4.5</td>\n",
       "      <td>4.0</td>\n",
       "      <td>4.0</td>\n",
       "      <td>Poured from a 22oz bomber into my Drie Fontein...</td>\n",
       "      <td>{u'wday': 1, u'isdst': 0, u'mday': 28, u'hour'...</td>\n",
       "      <td>1285632924</td>\n",
       "      <td>NaN</td>\n",
       "      <td>NaN</td>\n",
       "      <td>NaN</td>\n",
       "      <td>Male</td>\n",
       "      <td>augustgarage</td>\n",
       "    </tr>\n",
       "  </tbody>\n",
       "</table>\n",
       "</div>"
      ],
      "text/plain": [
       "   beer/ABV beer/beerId beer/brewerId               beer/name  \\\n",
       "0       5.0       47986         10325            Sausa Weizen   \n",
       "1       6.2       48213         10325                Red Moon   \n",
       "2       6.5       48215         10325  Black Horse Black Beer   \n",
       "3       5.0       47969         10325              Sausa Pils   \n",
       "4       7.7       64883          1075           Cauldron DIPA   \n",
       "5       4.7       52159          1075     Caldera Ginger Beer   \n",
       "6       4.7       52159          1075     Caldera Ginger Beer   \n",
       "7       4.7       52159          1075     Caldera Ginger Beer   \n",
       "8       4.7       52159          1075     Caldera Ginger Beer   \n",
       "9       4.7       52159          1075     Caldera Ginger Beer   \n",
       "\n",
       "                       beer/style  review/appearance  review/aroma  \\\n",
       "0                      Hefeweizen                2.5           2.0   \n",
       "1              English Strong Ale                3.0           2.5   \n",
       "2          Foreign / Export Stout                3.0           2.5   \n",
       "3                 German Pilsener                3.5           3.0   \n",
       "4  American Double / Imperial IPA                4.0           4.5   \n",
       "5            Herbed / Spiced Beer                3.5           3.5   \n",
       "6            Herbed / Spiced Beer                3.5           3.5   \n",
       "7            Herbed / Spiced Beer                3.5           2.5   \n",
       "8            Herbed / Spiced Beer                3.5           3.0   \n",
       "9            Herbed / Spiced Beer                5.0           3.5   \n",
       "\n",
       "   review/overall  review/palate  review/taste  \\\n",
       "0             1.5            1.5           1.5   \n",
       "1             3.0            3.0           3.0   \n",
       "2             3.0            3.0           3.0   \n",
       "3             3.0            2.5           3.0   \n",
       "4             4.0            4.0           4.5   \n",
       "5             3.0            3.0           3.5   \n",
       "6             3.5            4.0           4.0   \n",
       "7             3.0            2.0           3.5   \n",
       "8             4.0            3.5           4.0   \n",
       "9             4.5            4.0           4.0   \n",
       "\n",
       "                                         review/text  \\\n",
       "0  A lot of foam. But a lot.\\tIn the smell some b...   \n",
       "1  Dark red color, light beige foam, average.\\tIn...   \n",
       "2  Almost totally black. Beige foam, quite compac...   \n",
       "3  Golden yellow color. White, compact foam, quit...   \n",
       "4  According to the website, the style for the Ca...   \n",
       "5  Poured from the bottle into a Chimay goblet.\\t...   \n",
       "6  22 oz bottle from \"Lifesource\" Salem. $3.95 Ni...   \n",
       "7  Bottle says \"Malt beverage brewed with Ginger ...   \n",
       "8  I'm not sure why I picked this up... I like gi...   \n",
       "9  Poured from a 22oz bomber into my Drie Fontein...   \n",
       "\n",
       "                                   review/timeStruct  review/timeUnix  \\\n",
       "0  {u'wday': 0, u'isdst': 0, u'mday': 16, u'hour'...       1234817823   \n",
       "1  {u'wday': 6, u'isdst': 0, u'mday': 1, u'hour':...       1235915097   \n",
       "2  {u'wday': 6, u'isdst': 0, u'mday': 1, u'hour':...       1235916604   \n",
       "3  {u'wday': 6, u'isdst': 0, u'mday': 15, u'hour'...       1234725145   \n",
       "4  {u'wday': 3, u'isdst': 0, u'mday': 30, u'hour'...       1293735206   \n",
       "5  {u'wday': 0, u'isdst': 0, u'mday': 2, u'hour':...       1325524659   \n",
       "6  {u'wday': 2, u'isdst': 0, u'mday': 19, u'hour'...       1318991115   \n",
       "7  {u'wday': 1, u'isdst': 0, u'mday': 24, u'hour'...       1306276018   \n",
       "8  {u'wday': 0, u'isdst': 0, u'mday': 22, u'hour'...       1290454503   \n",
       "9  {u'wday': 1, u'isdst': 0, u'mday': 28, u'hour'...       1285632924   \n",
       "\n",
       "   user/ageInSeconds user/birthdayRaw  user/birthdayUnix user/gender  \\\n",
       "0                NaN              NaN                NaN         NaN   \n",
       "1                NaN              NaN                NaN         NaN   \n",
       "2                NaN              NaN                NaN         NaN   \n",
       "3                NaN              NaN                NaN         NaN   \n",
       "4       3.581417e+09     Jun 16, 1901      -2.163082e+09        Male   \n",
       "5                NaN              NaN                NaN        Male   \n",
       "6                NaN              NaN                NaN         NaN   \n",
       "7                NaN              NaN                NaN        Male   \n",
       "8                NaN              NaN                NaN         NaN   \n",
       "9                NaN              NaN                NaN        Male   \n",
       "\n",
       "  user/profileName  \n",
       "0          stcules  \n",
       "1          stcules  \n",
       "2          stcules  \n",
       "3          stcules  \n",
       "4   johnmichaelsen  \n",
       "5          oline73  \n",
       "6        Reidrover  \n",
       "7     alpinebryant  \n",
       "8    LordAdmNelson  \n",
       "9     augustgarage  "
      ]
     },
     "execution_count": 27,
     "metadata": {},
     "output_type": "execute_result"
    }
   ],
   "source": [
    "beer_dataframe=pd.DataFrame(data)\n",
    "beer_dataframe.head(n=10)"
   ]
  },
  {
   "cell_type": "code",
   "execution_count": 38,
   "metadata": {
    "collapsed": true
   },
   "outputs": [],
   "source": [
    "style_avg=beer_dataframe.groupby(['beer/style'])['review/taste'].mean()"
   ]
  },
  {
   "cell_type": "code",
   "execution_count": 43,
   "metadata": {
    "collapsed": true
   },
   "outputs": [],
   "source": [
    "avg_data_frame=style_avg.to_frame()"
   ]
  },
  {
   "cell_type": "code",
   "execution_count": 47,
   "metadata": {
    "collapsed": true
   },
   "outputs": [],
   "source": [
    "%matplotlib inline\n",
    "import matplotlib.pyplot as plt"
   ]
  },
  {
   "cell_type": "code",
   "execution_count": 50,
   "metadata": {},
   "outputs": [
    {
     "data": {
      "text/plain": [
       "<matplotlib.axes._subplots.AxesSubplot at 0x115adf950>"
      ]
     },
     "execution_count": 50,
     "metadata": {},
     "output_type": "execute_result"
    },
    {
     "data": {
      "image/png": "[encoded data removed]",
      "text/plain": [
       "<matplotlib.figure.Figure at 0x115b49450>"
      ]
     },
     "metadata": {},
     "output_type": "display_data"
    }
   ],
   "source": [
    "avg_data_frame.plot()"
   ]
  },
  {
   "cell_type": "code",
   "execution_count": 51,
   "metadata": {},
   "outputs": [
    {
     "data": {
      "text/plain": [
       "<matplotlib.axes._subplots.AxesSubplot at 0x115b37910>"
      ]
     },
     "execution_count": 51,
     "metadata": {},
     "output_type": "execute_result"
    },
    {
     "data": {
      "image/png": "[encoded data removed]",
      "text/plain": [
       "<matplotlib.figure.Figure at 0x115bc6dd0>"
      ]
     },
     "metadata": {},
     "output_type": "display_data"
    }
   ],
   "source": [
    "avg_data_frame.boxplot()"
   ]
  },
  {
   "cell_type": "code",
   "execution_count": 1,
   "metadata": {
    "collapsed": true
   },
   "outputs": [],
   "source": [
    "################################### assignment1 REGRESSION Task 1 ends ########################################\n",
    "###############################################################################################################"
   ]
  },
  {
   "cell_type": "code",
   "execution_count": 2,
   "metadata": {
    "collapsed": true
   },
   "outputs": [],
   "source": [
    "################################### assignment1 REGRESSION Task 2 starts ######################################\n",
    "###############################################################################################################"
   ]
  },
  {
   "cell_type": "code",
   "execution_count": 11,
   "metadata": {},
   "outputs": [],
   "source": [
    "def feature_IPA_style(datum):\n",
    "    feat = [1, 1 if datum['beer/style']=='American IPA' else 0]\n",
    "    return feat"
   ]
  },
  {
   "cell_type": "code",
   "execution_count": 38,
   "metadata": {
    "collapsed": true
   },
   "outputs": [],
   "source": [
    "X = [feature_IPA_style(d) for d in data]"
   ]
  },
  {
   "cell_type": "code",
   "execution_count": 39,
   "metadata": {},
   "outputs": [
    {
     "data": {
      "text/plain": [
       "50000"
      ]
     },
     "execution_count": 39,
     "metadata": {},
     "output_type": "execute_result"
    }
   ],
   "source": [
    "len(X)"
   ]
  },
  {
   "cell_type": "code",
   "execution_count": 40,
   "metadata": {
    "collapsed": true
   },
   "outputs": [],
   "source": [
    "y = [d['review/taste'] for d in data]"
   ]
  },
  {
   "cell_type": "code",
   "execution_count": 41,
   "metadata": {},
   "outputs": [
    {
     "data": {
      "text/plain": [
       "50000"
      ]
     },
     "execution_count": 41,
     "metadata": {},
     "output_type": "execute_result"
    }
   ],
   "source": [
    "len(y)"
   ]
  },
  {
   "cell_type": "code",
   "execution_count": 42,
   "metadata": {
    "collapsed": true
   },
   "outputs": [],
   "source": [
    "theta,residuals,rank,s = numpy.linalg.lstsq(X, y)"
   ]
  },
  {
   "cell_type": "code",
   "execution_count": 43,
   "metadata": {},
   "outputs": [
    {
     "data": {
      "text/plain": [
       "array([ 3.91520474,  0.08564622])"
      ]
     },
     "execution_count": 43,
     "metadata": {},
     "output_type": "execute_result"
    }
   ],
   "source": [
    "theta"
   ]
  },
  {
   "cell_type": "code",
   "execution_count": 44,
   "metadata": {},
   "outputs": [
    {
     "data": {
      "text/plain": [
       "0.51301617346173489"
      ]
     },
     "execution_count": 44,
     "metadata": {},
     "output_type": "execute_result"
    }
   ],
   "source": [
    "residuals[0]/len(data) # error"
   ]
  },
  {
   "cell_type": "code",
   "execution_count": 25,
   "metadata": {
    "collapsed": true
   },
   "outputs": [],
   "source": [
    "####################################### INFERENCE #########################################\n",
    "# The linear regression model review/taste ' θ0 + θ1 × [beer is an American IPA] has been #\n",
    "# trained for the given set of 50K reviews and the values obtained for θ is               #\n",
    "# [ 3.91520474,  0.08564622]. This means that the predictor simply retuns a rating of abo-#\n",
    "# -ut 3.915... for a beer that is not an American IPA and a rating of 4.0008... for a beer#\n",
    "# that is American IPA. Since we're just using style to predict taste review, this model  #\n",
    "# might not generalise for predictions outside the given data (even though it might perfo-#\n",
    "# -rm well on the given dataset).                                                         #\n",
    "####################################### INFERENCE #########################################\n",
    "\n",
    "\n",
    "################################### assignment1 REGRESSION Task 2 ends ########################################\n",
    "###############################################################################################################"
   ]
  },
  {
   "cell_type": "code",
   "execution_count": 26,
   "metadata": {
    "collapsed": true
   },
   "outputs": [],
   "source": [
    "\n",
    "################################### assignment1 REGRESSION Task 3 starts ######################################\n",
    "###############################################################################################################"
   ]
  },
  {
   "cell_type": "code",
   "execution_count": 45,
   "metadata": {
    "collapsed": true
   },
   "outputs": [],
   "source": [
    "train_data = data[:(len(data)/2)]\n",
    "eval_data = data[len(data)/2:]"
   ]
  },
  {
   "cell_type": "code",
   "execution_count": 46,
   "metadata": {},
   "outputs": [
    {
     "data": {
      "text/plain": [
       "25000"
      ]
     },
     "execution_count": 46,
     "metadata": {},
     "output_type": "execute_result"
    }
   ],
   "source": [
    "len(train_data)"
   ]
  },
  {
   "cell_type": "code",
   "execution_count": 47,
   "metadata": {},
   "outputs": [
    {
     "data": {
      "text/plain": [
       "25000"
      ]
     },
     "execution_count": 47,
     "metadata": {},
     "output_type": "execute_result"
    }
   ],
   "source": [
    "len(eval_data)"
   ]
  },
  {
   "cell_type": "code",
   "execution_count": 48,
   "metadata": {
    "collapsed": true
   },
   "outputs": [],
   "source": [
    "X = [feature_IPA_style(d) for d in train_data]\n",
    "y = [d['review/taste'] for d in train_data]"
   ]
  },
  {
   "cell_type": "code",
   "execution_count": 49,
   "metadata": {
    "collapsed": true
   },
   "outputs": [],
   "source": [
    "theta,residuals,rank,s = numpy.linalg.lstsq(X, y)"
   ]
  },
  {
   "cell_type": "code",
   "execution_count": 50,
   "metadata": {},
   "outputs": [
    {
     "data": {
      "text/plain": [
       "array([ 3.90435639,  0.05606027])"
      ]
     },
     "execution_count": 50,
     "metadata": {},
     "output_type": "execute_result"
    }
   ],
   "source": [
    "theta"
   ]
  },
  {
   "cell_type": "code",
   "execution_count": 52,
   "metadata": {},
   "outputs": [],
   "source": [
    "y_true = [d['review/taste'] for d in eval_data]\n",
    "\n",
    "def pred_taste_with_style(datum, theta):\n",
    "    pred = [theta[0] + (theta[1] * 1 if datum['beer/style']=='AmericanIPA' else 0)]\n",
    "    return pred"
   ]
  },
  {
   "cell_type": "code",
   "execution_count": 53,
   "metadata": {
    "collapsed": true
   },
   "outputs": [],
   "source": [
    "y_pred = [pred_taste_with_style(d,theta) for d in eval_data]"
   ]
  },
  {
   "cell_type": "code",
   "execution_count": 57,
   "metadata": {},
   "outputs": [],
   "source": [
    "from sklearn.metrics import mean_squared_error"
   ]
  },
  {
   "cell_type": "code",
   "execution_count": 58,
   "metadata": {},
   "outputs": [
    {
     "data": {
      "text/plain": [
       "0.46940141685784909"
      ]
     },
     "execution_count": 58,
     "metadata": {},
     "output_type": "execute_result"
    }
   ],
   "source": [
    "mean_squared_error(y_true, y_pred) # MSE on the test set"
   ]
  },
  {
   "cell_type": "code",
   "execution_count": 60,
   "metadata": {},
   "outputs": [
    {
     "data": {
      "text/plain": [
       "0.55810728655866892"
      ]
     },
     "execution_count": 60,
     "metadata": {},
     "output_type": "execute_result"
    }
   ],
   "source": [
    "residuals[0]/len(train_data) # MSE on the training set"
   ]
  },
  {
   "cell_type": "code",
   "execution_count": null,
   "metadata": {
    "collapsed": true
   },
   "outputs": [],
   "source": [
    "################################### assignment1 REGRESSION Task 3 ends ########################################\n",
    "###############################################################################################################"
   ]
  }
 ],
 "metadata": {
  "kernelspec": {
   "display_name": "Python 2",
   "language": "python",
   "name": "python2"
  },
  "language_info": {
   "codemirror_mode": {
    "name": "ipython",
    "version": 2
   },
   "file_extension": ".py",
   "mimetype": "text/x-python",
   "name": "python",
   "nbconvert_exporter": "python",
   "pygments_lexer": "ipython2",
   "version": "2.7.13"
  }
 },
 "nbformat": 4,
 "nbformat_minor": 2
}
